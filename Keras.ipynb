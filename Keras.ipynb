{
 "cells": [
  {
   "cell_type": "code",
   "execution_count": 1,
   "metadata": {},
   "outputs": [],
   "source": [
    "from m8r import view"
   ]
  },
  {
   "cell_type": "code",
   "execution_count": 26,
   "metadata": {},
   "outputs": [
    {
     "name": "stdout",
     "output_type": "stream",
     "text": [
      "Overwriting 1_train.scons\n"
     ]
    }
   ],
   "source": [
    "%%file 1_train.scons \n",
    "\n",
    "import numpy as np\n",
    "from tensorflow import keras\n",
    "import m8r\n",
    "\n",
    "# for reproducibility\n",
    "from tensorflow import random\n",
    "np.random.seed(2021)\n",
    "random.set_seed(2021)\n",
    "\n",
    "def get_data(target=None,source=None,env=None):\n",
    "    # the data, split between train and test sets\n",
    "    (x_train, y_train), (x_test, y_test) = keras.datasets.mnist.load_data()\n",
    "    # Scale images to the [0, 1] range\n",
    "    x_train = x_train.astype(\"float32\") / 255\n",
    "    x_test = x_test.astype(\"float32\") / 255\n",
    "    # Make sure images have shape (28, 28, 1)\n",
    "    x_train = np.expand_dims(x_train, -1)\n",
    "    x_test = np.expand_dims(x_test, -1)\n",
    "    # convert class vectors to binary class matrices\n",
    "    num_classes = 10\n",
    "    y_train = keras.utils.to_categorical(y_train, num_classes)\n",
    "    y_test = keras.utils.to_categorical(y_test, num_classes)\n",
    "    m8r.File(x_train,name=str(target[0]))\n",
    "    m8r.File(y_train,name=str(target[1]))\n",
    "    m8r.File(x_test,name=str(target[2]))\n",
    "    m8r.File(y_test,name=str(target[3]))\n",
    "    \n",
    "Command(['xtrain.rsf','ytrain.rsf','xtest.rsf','ytest.rsf'],None,\n",
    "       action=Action(get_data))\n",
    "\n",
    "examples = []\n",
    "for example in (10010,20010,30010,40010,50010):\n",
    "    label = 'label%d.txt' % example\n",
    "    Flow(label,'ytrain',\n",
    "         '''\n",
    "         window n2=1 f2=%d | attr want=max | awk \\'{ printf(\\\"title=label:%%d\\n\\\",$$NF-1)}\\'\n",
    "         ''' % example)\n",
    "    xtrain = 'xtrain%d' % example\n",
    "    Plot(xtrain,['xtrain',label],\n",
    "         '''\n",
    "         window n4=1 f4=%d | \n",
    "         grey allpos=y par=${SOURCES[1]} screenratio=1 transp=n wantaxis=n color=I titlesz=24\n",
    "         ''' % example)\n",
    "    examples.append(xtrain)\n",
    "    \n",
    "Result('train',examples,'SideBySideIso')"
   ]
  },
  {
   "cell_type": "code",
   "execution_count": 27,
   "metadata": {},
   "outputs": [
    {
     "data": {
      "image/png": "[encoded data removed]",
      "text/plain": [
       "<IPython.core.display.Image object>"
      ]
     },
     "execution_count": 27,
     "metadata": {},
     "output_type": "execute_result"
    }
   ],
   "source": [
    "view(\"train\")"
   ]
  },
  {
   "cell_type": "code",
   "execution_count": 28,
   "metadata": {},
   "outputs": [
    {
     "name": "stdout",
     "output_type": "stream",
     "text": [
      "Overwriting 2_test.scons\n"
     ]
    }
   ],
   "source": [
    "%%file 2_test.scons \n",
    "\n",
    "from tensorflow.keras import layers\n",
    "\n",
    "def train_model(target=None,source=None,env=None):\n",
    "    # define model\n",
    "    input_shape = (28, 28, 1)\n",
    "    num_classes = 10\n",
    "    model = keras.Sequential(\n",
    "        [\n",
    "            layers.Conv2D(32, kernel_size=(3, 3), activation=\"relu\",input_shape=input_shape),\n",
    "            layers.MaxPooling2D(pool_size=(2, 2)),\n",
    "            layers.Conv2D(64, kernel_size=(3, 3), activation=\"relu\"),\n",
    "            layers.MaxPooling2D(pool_size=(2, 2)),\n",
    "            layers.Flatten(),\n",
    "            layers.Dropout(0.5),\n",
    "            layers.Dense(num_classes, activation=\"softmax\"),\n",
    "        ]\n",
    "    )\n",
    "    model.compile(loss=\"categorical_crossentropy\", optimizer=\"adam\", metrics=[\"accuracy\"])\n",
    "    \n",
    "    # train model\n",
    "    x_train = m8r.File(str(source[0]))[:]\n",
    "    y_train = m8r.File(str(source[1]))[:]\n",
    "    \n",
    "    batch_size=env.get('batch_size')\n",
    "    epochs=env.get('epochs')\n",
    "    model.fit(x_train, y_train, batch_size=batch_size, epochs=epochs, validation_split=0.1)\n",
    "    \n",
    "    # save model\n",
    "    keras.models.save_model(model,str(target[0]),save_format='h5')\n",
    "        \n",
    "Command('model.h5',['xtrain.rsf','ytrain.rsf'],action=Action(train_model),\n",
    "        varlist=['batch_size','epochs'],batch_size=128,epochs=15)\n",
    "\n",
    "def predict(target=None,source=None,env=None):\n",
    "    model = keras.models.load_model(str(source[0]))\n",
    "    x_test = m8r.File(str(source[1]))[:]\n",
    "    y_pred = model.predict(x_test)\n",
    "    m8r.File(y_pred,name=str(target[0]))\n",
    "    \n",
    "Command('ypred.rsf',['model.h5','xtest.rsf'],action=Action(predict))\n",
    "\n",
    "examples = []\n",
    "for example in (110,210,310,410,510):\n",
    "    label = 'plabel%d.txt' % example\n",
    "    Flow(label,'ypred',\n",
    "         '''\n",
    "         window n2=1 f2=%d | attr want=max | awk \\'{ printf(\\\"title=label:%%d\\n\\\",$$NF-1)}\\'\n",
    "         ''' % example)\n",
    "    xtest = 'xtest%d' % example\n",
    "    Plot(xtest,['xtest',label],\n",
    "         '''\n",
    "         window n4=1 f4=%d | \n",
    "         grey allpos=y par=${SOURCES[1]} screenratio=1 transp=n wantaxis=n color=I titlesz=24\n",
    "         ''' % example)\n",
    "    examples.append(xtest)\n",
    "    \n",
    "Result('test',examples,'SideBySideIso')"
   ]
  },
  {
   "cell_type": "code",
   "execution_count": 29,
   "metadata": {},
   "outputs": [
    {
     "data": {
      "image/png": "[encoded data removed]",
      "text/plain": [
       "<IPython.core.display.Image object>"
      ]
     },
     "execution_count": 29,
     "metadata": {},
     "output_type": "execute_result"
    }
   ],
   "source": [
    "view(\"test\")"
   ]
  },
  {
   "cell_type": "code",
   "execution_count": null,
   "metadata": {},
   "outputs": [],
   "source": []
  }
 ],
 "metadata": {
  "kernelspec": {
   "display_name": "Python 3",
   "language": "python",
   "name": "python3"
  },
  "language_info": {
   "codemirror_mode": {
    "name": "ipython",
    "version": 3
   },
   "file_extension": ".py",
   "mimetype": "text/x-python",
   "name": "python",
   "nbconvert_exporter": "python",
   "pygments_lexer": "ipython3",
   "version": "3.8.5"
  }
 },
 "nbformat": 4,
 "nbformat_minor": 4
}

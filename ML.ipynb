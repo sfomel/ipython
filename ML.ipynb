{
 "cells": [
  {
   "cell_type": "code",
   "execution_count": null,
   "metadata": {},
   "outputs": [],
   "source": [
    "from m8r import view"
   ]
  },
  {
   "cell_type": "code",
   "execution_count": null,
   "metadata": {},
   "outputs": [],
   "source": [
    "%%file 1_mtrain.scons \n",
    "\n",
    "\n",
    "import pandas as pd\n",
    "import numpy as np\n",
    "from sklearn import linear_model\n",
    "import pickle\n",
    "import m8r\n",
    "\n",
    "# download data\n",
    "\n",
    "Fetch('Data3_1_2020.zip','master',\n",
    "      server='https://github.com',\n",
    "      top='pddasig/Machine-Learning-Competition-2020/raw/')\n",
    "\n",
    "Command('train.csv','Data3_1_2020.zip','unzip $SOURCE $TARGET')\n",
    "\n",
    "Flow('train','train.csv','csv2rsf header=y')\n",
    "\n",
    "# Remove missing values, despike\n",
    "Flow('mask','train',\n",
    "     'mask min=-998 | dd type=float | stack axis=1 prod=y | dd type=int')\n",
    "Flow('mtrain','train mask',\n",
    "     'headerwindow mask=${SOURCES[1]} | transp | despike wide=25')\n",
    "Flow('labels.par','train',\n",
    "     \"grep key | sed s/key.=// | tr '\\\\n' ':' | sed s/^/labels=/\")\n",
    "Result('mtrain','mtrain labels.par',\n",
    "       'dots transp=y gainpanel=each par=${SOURCES[1]} label1=')"
   ]
  },
  {
   "cell_type": "code",
   "execution_count": null,
   "metadata": {},
   "outputs": [],
   "source": [
    "view(\"mtrain\")"
   ]
  },
  {
   "cell_type": "code",
   "execution_count": null,
   "metadata": {},
   "outputs": [],
   "source": [
    "%%file 2_train2.scons \n",
    "\n",
    "\n",
    "def preprocess(target=None,source=None,env=None):\n",
    "    logs = pd.read_csv(str(source[0]))\n",
    "    # select two logs \n",
    "    two = logs.loc[:,['ZDEN','DTC']]\n",
    "    # replace -999 with NaN\n",
    "    two.replace(-999, np.nan, inplace=True)\n",
    "    # drop rows with NaN\n",
    "    two.dropna(inplace=True)\n",
    "    two2=two.loc[(two.ZDEN > 1.5) & (two.ZDEN < 3.1)]\n",
    "    np.random.seed(2021)\n",
    "    split = env.get('split',0.9)\n",
    "    select = np.random.rand(len(two2)) < split\n",
    "    train = two2[select]\n",
    "    test = two2[~select]\n",
    "    train.to_csv(str(target[0]))\n",
    "    test.to_csv(str(target[1]))   \n",
    "                       \n",
    "Command(['train2.csv','test2.csv'],'train.csv',\n",
    "        action=Action(preprocess,varlist=['split']),\n",
    "        split=0.8)\n",
    "\n",
    "Flow('train2','train2.csv','csv2rsf header=y')\n",
    "Result('train2',\n",
    "       '''\n",
    "       window f1=1 | dd type=complex | \n",
    "       window | graph symbol=x title=\"Training Data\"\n",
    "       label1=Density unit1=\"g/cm\\\\^3\\\\_\"\n",
    "       label2=Slowness unit2=ns/ft\n",
    "       ''')"
   ]
  },
  {
   "cell_type": "code",
   "execution_count": null,
   "metadata": {},
   "outputs": [],
   "source": [
    "view(\"train2\")"
   ]
  },
  {
   "cell_type": "code",
   "execution_count": null,
   "metadata": {},
   "outputs": [],
   "source": [
    "%%file 3_pred.scons \n",
    "\n",
    "\n",
    "def train(target=None,source=None,env=None):\n",
    "    logs = pd.read_csv(str(source[0]))\n",
    "    # use linear regression\n",
    "    model = linear_model.LinearRegression()\n",
    "    # train model\n",
    "    model.fit(logs[['ZDEN']],logs['DTC'])\n",
    "    # save model\n",
    "    with open(str(target[0]),'wb') as dump:\n",
    "        pickle.dump(model,dump)\n",
    "\n",
    "Command('model.pickle','train2.csv',action=Action(train))\n",
    "\n",
    "def predict(target=None,source=None,env=None):\n",
    "    # load model\n",
    "    with open(str(source[0]),'rb') as dump:\n",
    "        model = pickle.load(dump)\n",
    "    logs = pd.read_csv(str(source[1]))\n",
    "    pred = model.predict(logs[['ZDEN']])\n",
    "    rsf = m8r.File(pred,name=str(target[0]))\n",
    "\n",
    "Command('pred.rsf',['model.pickle','test2.csv'],action=Action(predict))\n",
    "\n",
    "Flow('test2','test2.csv','csv2rsf header=y')\n",
    "\n",
    "Result('pred','test2 pred',\n",
    "       '''\n",
    "       window n1=1 f1=2 | cmplx ${SOURCES[1]} | \n",
    "       graph screenratio=1 title=Prediction symbol=x\n",
    "       label1=Actual label2=Predicted unit1=ns/ft unit2=ns/ft\n",
    "       ''')"
   ]
  },
  {
   "cell_type": "code",
   "execution_count": null,
   "metadata": {},
   "outputs": [],
   "source": [
    "view(\"pred\")"
   ]
  }
 ],
 "metadata": {},
 "nbformat": 4,
 "nbformat_minor": 4
}
